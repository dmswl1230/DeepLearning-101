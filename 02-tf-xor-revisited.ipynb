{
 "cells": [
  {
   "cell_type": "markdown",
   "metadata": {
    "colab_type": "text",
    "id": "view-in-github"
   },
   "source": [
    "<a href=\"https://colab.research.google.com/github/changsin/DeepLearning-101/blob/master/02-tf-xor-revisited-deep-learning.ipynb\" target=\"_parent\"><img src=\"https://colab.research.google.com/assets/colab-badge.svg\" alt=\"Open In Colab\"/></a>"
   ]
  },
  {
   "cell_type": "markdown",
   "metadata": {
    "id": "dsJ78nDzn5_W"
   },
   "source": [
    "The code is a slight variation of the article [How to solve XOR problem in Keras](https://medium.com/analytics-vidhya/understanding-basics-of-deep-learning-by-solving-xor-problem-cb3ff6a18a06)."
   ]
  },
  {
   "cell_type": "code",
   "execution_count": 28,
   "metadata": {
    "id": "wCtLvEk8n3dq"
   },
   "outputs": [],
   "source": [
    "import numpy as np\n",
    "\n",
    "from tensorflow import keras\n",
    "from keras.layers import Dense\n",
    "from keras.models import Sequential\n",
    "from keras.utils import plot_model\n",
    "from matplotlib import pyplot"
   ]
  },
  {
   "cell_type": "code",
   "execution_count": 16,
   "metadata": {
    "colab": {
     "base_uri": "https://localhost:8080/"
    },
    "id": "zp22hvCroXmA",
    "outputId": "bb302580-6f87-43dc-88db-266711c73bbd"
   },
   "outputs": [
    {
     "name": "stdout",
     "output_type": "stream",
     "text": [
      "Model: \"sequential_3\"\n",
      "_________________________________________________________________\n",
      "Layer (type)                 Output Shape              Param #   \n",
      "=================================================================\n",
      "dense_6 (Dense)              (None, 2)                 6         \n",
      "_________________________________________________________________\n",
      "dense_7 (Dense)              (None, 1)                 3         \n",
      "=================================================================\n",
      "Total params: 9\n",
      "Trainable params: 9\n",
      "Non-trainable params: 0\n",
      "_________________________________________________________________\n",
      "None\n",
      "[array([[-0.60407144, -0.6535538 ],\n",
      "       [ 1.1836365 , -1.0246705 ]], dtype=float32), array([0., 0.], dtype=float32), array([[0.5840899 ],\n",
      "       [0.60741436]], dtype=float32), array([0.], dtype=float32)]\n"
     ]
    }
   ],
   "source": [
    "model = Sequential()\n",
    "model.add(Dense(units=2,activation='relu', input_dim=2))\n",
    "model.add(Dense(units=1,activation='sigmoid'))\n",
    "model.compile(loss='binary_crossentropy',optimizer='adam',metrics=['accuracy'])\n",
    "print(model.summary())\n",
    "print(model.get_weights())"
   ]
  },
  {
   "cell_type": "markdown",
   "metadata": {
    "id": "gWmjPERNje-_"
   },
   "source": [
    "Dense() means fully connected layers where every node in one lalyers is connected to all the nodes in the next layer. The model has one hidden layer with nine learnable parameters. Other than model.summary(), Keras has a handy utility to visualize the model.\n"
   ]
  },
  {
   "cell_type": "code",
   "execution_count": 22,
   "metadata": {
    "colab": {
     "base_uri": "https://localhost:8080/",
     "height": 312
    },
    "id": "VoX8TL0xaIHQ",
    "outputId": "3b644d8a-56f1-46b9-a151-833bc3ed7d61"
   },
   "outputs": [
    {
     "data": {
      "image/png": "[encoded data removed]",
      "text/plain": [
       "<IPython.core.display.Image object>"
      ]
     },
     "execution_count": 22,
     "metadata": {
      "tags": []
     },
     "output_type": "execute_result"
    }
   ],
   "source": [
    "keras.utils.plot_model(model, to_file='xor_model.png', show_shapes=True, show_layer_names=True, rankdir='TB', expand_nested=True)"
   ]
  },
  {
   "cell_type": "code",
   "execution_count": 9,
   "metadata": {
    "id": "F8cG98I3ocng"
   },
   "outputs": [],
   "source": [
    "x = np.array([[0.,0.],[0.,1.],[1.,0.],[1.,1.]])\n",
    "y = np.array([0.,1.,1.,0.])"
   ]
  },
  {
   "cell_type": "code",
   "execution_count": null,
   "metadata": {
    "id": "rX820xqIofcq"
   },
   "outputs": [],
   "source": [
    "history = model.fit(x,y,epochs=1000,batch_size=4)"
   ]
  },
  {
   "cell_type": "code",
   "execution_count": null,
   "metadata": {
    "colab": {
     "base_uri": "https://localhost:8080/"
    },
    "id": "LFYvBpwInat7",
    "outputId": "3aaabea3-a5c7-47f7-b6d7-447e3c5da99b"
   },
   "outputs": [],
   "source": [
    "model.save('./xor-good-weights.hd5')"
   ]
  },
  {
   "cell_type": "code",
   "execution_count": 24,
   "metadata": {
    "colab": {
     "base_uri": "https://localhost:8080/"
    },
    "id": "VtAcwdUEUick",
    "outputId": "74df5043-5251-4210-dc80-0e9c3591d5ce"
   },
   "outputs": [
    {
     "name": "stdout",
     "output_type": "stream",
     "text": [
      "[array([[-1.3081621, -0.6535538],\n",
      "       [ 1.3078191, -1.0246705]], dtype=float32), array([-0.0001756,  0.       ], dtype=float32), array([[1.6605862 ],\n",
      "       [0.60741436]], dtype=float32), array([-0.4481035], dtype=float32)]\n",
      "[[0.38981178]\n",
      " [0.8485601 ]\n",
      " [0.38981178]\n",
      " [0.38981178]]\n"
     ]
    }
   ],
   "source": [
    "print(model.get_weights())\n",
    "print(model.predict(x,batch_size=4))"
   ]
  },
  {
   "cell_type": "markdown",
   "metadata": {
    "id": "WpAXtxOTnDeq"
   },
   "source": [
    "  [array([[-1.3081621, -0.6535538],\n",
    "       [ 1.3078191, -1.0246705]], dtype=float32), array([-0.0001756,  0.       ], dtype=float32), array([[1.6605862 ],\n",
    "       [0.60741436]], dtype=float32), array([-0.4481035], dtype=float32)]\n",
    "\n",
    "[[0.38981178]\n",
    " [0.8485601 ]\n",
    " [0.38981178]\n",
    " [0.38981178]]"
   ]
  },
  {
   "cell_type": "markdown",
   "metadata": {
    "id": "sjQWWLN1rO6_"
   },
   "source": [
    "1/1 [==============================] - 0s 1ms/step - loss: 0.4892 - accuracy: 0.7500\n",
    "\n",
    "\n",
    "[array([[ 0.24800655,  1.10779   ],\n",
    "       [-1.0030258 ,  1.107669  ]], dtype=float32), array([-0.26201358, -1.1084698 ], dtype=float32), array([[-0.26150066],\n",
    "       [-3.3309755 ]], dtype=float32), array([0.62593275], dtype=float32)]\n",
    "[[0.6515666 ]\n",
    " [0.6515666 ]\n",
    " [0.6515666 ]\n",
    " [0.04472694]]"
   ]
  },
  {
   "cell_type": "code",
   "execution_count": 29,
   "metadata": {
    "colab": {
     "base_uri": "https://localhost:8080/",
     "height": 281
    },
    "id": "rn_N_UFbT3O2",
    "outputId": "a0f1e222-2484-4721-a4f7-d594c98bf1d2"
   },
   "outputs": [
    {
     "data": {
      "image/png": "[encoded data removed]",
      "text/plain": [
       "<Figure size 432x288 with 2 Axes>"
      ]
     },
     "metadata": {
      "needs_background": "light",
      "tags": []
     },
     "output_type": "display_data"
    }
   ],
   "source": [
    "# plot loss during training\n",
    "pyplot.subplot(211)\n",
    "pyplot.title('Loss')\n",
    "pyplot.plot(history.history['loss'], label='train')\n",
    "pyplot.legend()\n",
    "\n",
    "# plot accuracy during training\n",
    "pyplot.subplot(212)\n",
    "pyplot.title('Accuracy')\n",
    "pyplot.plot(history.history['accuracy'], label='train')\n",
    "pyplot.legend()\n",
    "pyplot.show()"
   ]
  },
  {
   "cell_type": "code",
   "execution_count": null,
   "metadata": {
    "id": "DDqShqenmPqo"
   },
   "outputs": [],
   "source": []
  }
 ],
 "metadata": {
  "colab": {
   "authorship_tag": "ABX9TyNiA5VlAI3XDJ+kl5haYASh",
   "include_colab_link": true,
   "name": "Untitled0.ipynb",
   "provenance": []
  },
  "kernelspec": {
   "display_name": "Python 3",
   "language": "python",
   "name": "python3"
  },
  "language_info": {
   "codemirror_mode": {
    "name": "ipython",
    "version": 3
   },
   "file_extension": ".py",
   "mimetype": "text/x-python",
   "name": "python",
   "nbconvert_exporter": "python",
   "pygments_lexer": "ipython3",
   "version": "3.8.2"
  }
 },
 "nbformat": 4,
 "nbformat_minor": 4
}
